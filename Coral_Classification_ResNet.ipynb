{
 "cells": [
  {
   "cell_type": "code",
   "execution_count": 5,
   "id": "261c33f7",
   "metadata": {
    "_cell_guid": "b1076dfc-b9ad-4769-8c92-a6c4dae69d19",
    "_uuid": "8f2839f25d086af736a60e9eeb907d3b93b6e0e5",
    "execution": {
     "iopub.execute_input": "2023-04-28T09:43:07.140194Z",
     "iopub.status.busy": "2023-04-28T09:43:07.139647Z",
     "iopub.status.idle": "2023-04-28T09:43:28.702022Z",
     "shell.execute_reply": "2023-04-28T09:43:28.700613Z"
    },
    "papermill": {
     "duration": 21.571941,
     "end_time": "2023-04-28T09:43:28.705105",
     "exception": false,
     "start_time": "2023-04-28T09:43:07.133164",
     "status": "completed"
    },
    "tags": []
   },
   "outputs": [],
   "source": [
    "import tensorflow as tf\n",
    "import numpy as np \n",
    "from PIL import Image\n",
    "\n",
    "model = tf.saved_model.load('C:/Files/Amrita/Sem - 6/Deep Learning/archive/Resnet/ResNet50')\n",
    "classes = [ \"bleached\" ,  \"healthy\" , ]"
   ]
  },
  {
   "cell_type": "code",
   "execution_count": 2,
   "id": "14b0830e",
   "metadata": {
    "execution": {
     "iopub.execute_input": "2023-04-28T09:43:28.714372Z",
     "iopub.status.busy": "2023-04-28T09:43:28.713262Z",
     "iopub.status.idle": "2023-04-28T09:43:28.753000Z",
     "shell.execute_reply": "2023-04-28T09:43:28.751859Z"
    },
    "papermill": {
     "duration": 0.048337,
     "end_time": "2023-04-28T09:43:28.756995",
     "exception": false,
     "start_time": "2023-04-28T09:43:28.708658",
     "status": "completed"
    },
    "tags": []
   },
   "outputs": [
    {
     "data": {
      "text/html": [
       "<div>\n",
       "<style scoped>\n",
       "    .dataframe tbody tr th:only-of-type {\n",
       "        vertical-align: middle;\n",
       "    }\n",
       "\n",
       "    .dataframe tbody tr th {\n",
       "        vertical-align: top;\n",
       "    }\n",
       "\n",
       "    .dataframe thead th {\n",
       "        text-align: right;\n",
       "    }\n",
       "</style>\n",
       "<table border=\"1\" class=\"dataframe\">\n",
       "  <thead>\n",
       "    <tr style=\"text-align: right;\">\n",
       "      <th></th>\n",
       "      <th>filename</th>\n",
       "      <th>label</th>\n",
       "    </tr>\n",
       "  </thead>\n",
       "  <tbody>\n",
       "    <tr>\n",
       "      <th>0</th>\n",
       "      <td>C:/Files/Amrita/Sem - 6/Deep Learning/archive/...</td>\n",
       "      <td>healthy</td>\n",
       "    </tr>\n",
       "    <tr>\n",
       "      <th>1</th>\n",
       "      <td>C:/Files/Amrita/Sem - 6/Deep Learning/archive/...</td>\n",
       "      <td>bleached</td>\n",
       "    </tr>\n",
       "    <tr>\n",
       "      <th>2</th>\n",
       "      <td>C:/Files/Amrita/Sem - 6/Deep Learning/archive/...</td>\n",
       "      <td>healthy</td>\n",
       "    </tr>\n",
       "    <tr>\n",
       "      <th>3</th>\n",
       "      <td>C:/Files/Amrita/Sem - 6/Deep Learning/archive/...</td>\n",
       "      <td>healthy</td>\n",
       "    </tr>\n",
       "    <tr>\n",
       "      <th>4</th>\n",
       "      <td>C:/Files/Amrita/Sem - 6/Deep Learning/archive/...</td>\n",
       "      <td>bleached</td>\n",
       "    </tr>\n",
       "  </tbody>\n",
       "</table>\n",
       "</div>"
      ],
      "text/plain": [
       "                                            filename     label\n",
       "0  C:/Files/Amrita/Sem - 6/Deep Learning/archive/...   healthy\n",
       "1  C:/Files/Amrita/Sem - 6/Deep Learning/archive/...  bleached\n",
       "2  C:/Files/Amrita/Sem - 6/Deep Learning/archive/...   healthy\n",
       "3  C:/Files/Amrita/Sem - 6/Deep Learning/archive/...   healthy\n",
       "4  C:/Files/Amrita/Sem - 6/Deep Learning/archive/...  bleached"
      ]
     },
     "execution_count": 2,
     "metadata": {},
     "output_type": "execute_result"
    }
   ],
   "source": [
    "import pandas as pd\n",
    "test=pd.read_csv(r'C:\\Files\\Amrita\\Sem - 6\\Deep Learning\\archive\\archive\\test.csv')\n",
    "test.head()"
   ]
  },
  {
   "cell_type": "code",
   "execution_count": 8,
   "id": "7c1fb972",
   "metadata": {
    "execution": {
     "iopub.execute_input": "2023-04-28T09:43:28.766200Z",
     "iopub.status.busy": "2023-04-28T09:43:28.765790Z",
     "iopub.status.idle": "2023-04-28T09:44:25.633283Z",
     "shell.execute_reply": "2023-04-28T09:44:25.632231Z"
    },
    "papermill": {
     "duration": 56.87507,
     "end_time": "2023-04-28T09:44:25.635706",
     "exception": false,
     "start_time": "2023-04-28T09:43:28.760636",
     "status": "completed"
    },
    "tags": []
   },
   "outputs": [
    {
     "data": {
      "text/plain": [
       "['healthy', 'healthy', 'healthy', 'healthy', 'healthy']"
      ]
     },
     "execution_count": 8,
     "metadata": {},
     "output_type": "execute_result"
    }
   ],
   "source": [
    "from PIL import Image\n",
    "import PIL\n",
    "result=[]\n",
    "for i in test.filename:\n",
    "    img = Image.open(i).convert('RGB')\n",
    "    img = img.resize((300, 300 * img.size[1] // img.size[0]), PIL.Image.LANCZOS)\n",
    "    inp_numpy = np.array(img)[None]\n",
    "    inp = tf.constant(inp_numpy, dtype='float32')\n",
    "    class_scores = model(inp)[0].numpy()\n",
    "    result.append(classes[class_scores.argmax()])\n",
    "result[:5]"
   ]
  },
  {
   "cell_type": "code",
   "execution_count": 9,
   "id": "7f77d024",
   "metadata": {
    "execution": {
     "iopub.execute_input": "2023-04-28T09:44:25.644978Z",
     "iopub.status.busy": "2023-04-28T09:44:25.644334Z",
     "iopub.status.idle": "2023-04-28T09:44:25.655883Z",
     "shell.execute_reply": "2023-04-28T09:44:25.654918Z"
    },
    "papermill": {
     "duration": 0.019325,
     "end_time": "2023-04-28T09:44:25.658593",
     "exception": false,
     "start_time": "2023-04-28T09:44:25.639268",
     "status": "completed"
    },
    "tags": []
   },
   "outputs": [
    {
     "data": {
      "text/html": [
       "<div>\n",
       "<style scoped>\n",
       "    .dataframe tbody tr th:only-of-type {\n",
       "        vertical-align: middle;\n",
       "    }\n",
       "\n",
       "    .dataframe tbody tr th {\n",
       "        vertical-align: top;\n",
       "    }\n",
       "\n",
       "    .dataframe thead th {\n",
       "        text-align: right;\n",
       "    }\n",
       "</style>\n",
       "<table border=\"1\" class=\"dataframe\">\n",
       "  <thead>\n",
       "    <tr style=\"text-align: right;\">\n",
       "      <th></th>\n",
       "      <th>filename</th>\n",
       "      <th>label</th>\n",
       "      <th>prediction</th>\n",
       "    </tr>\n",
       "  </thead>\n",
       "  <tbody>\n",
       "    <tr>\n",
       "      <th>0</th>\n",
       "      <td>C:/Files/Amrita/Sem - 6/Deep Learning/archive/...</td>\n",
       "      <td>healthy</td>\n",
       "      <td>healthy</td>\n",
       "    </tr>\n",
       "    <tr>\n",
       "      <th>1</th>\n",
       "      <td>C:/Files/Amrita/Sem - 6/Deep Learning/archive/...</td>\n",
       "      <td>bleached</td>\n",
       "      <td>healthy</td>\n",
       "    </tr>\n",
       "    <tr>\n",
       "      <th>2</th>\n",
       "      <td>C:/Files/Amrita/Sem - 6/Deep Learning/archive/...</td>\n",
       "      <td>healthy</td>\n",
       "      <td>healthy</td>\n",
       "    </tr>\n",
       "    <tr>\n",
       "      <th>3</th>\n",
       "      <td>C:/Files/Amrita/Sem - 6/Deep Learning/archive/...</td>\n",
       "      <td>healthy</td>\n",
       "      <td>healthy</td>\n",
       "    </tr>\n",
       "    <tr>\n",
       "      <th>4</th>\n",
       "      <td>C:/Files/Amrita/Sem - 6/Deep Learning/archive/...</td>\n",
       "      <td>bleached</td>\n",
       "      <td>healthy</td>\n",
       "    </tr>\n",
       "  </tbody>\n",
       "</table>\n",
       "</div>"
      ],
      "text/plain": [
       "                                            filename     label prediction\n",
       "0  C:/Files/Amrita/Sem - 6/Deep Learning/archive/...   healthy    healthy\n",
       "1  C:/Files/Amrita/Sem - 6/Deep Learning/archive/...  bleached    healthy\n",
       "2  C:/Files/Amrita/Sem - 6/Deep Learning/archive/...   healthy    healthy\n",
       "3  C:/Files/Amrita/Sem - 6/Deep Learning/archive/...   healthy    healthy\n",
       "4  C:/Files/Amrita/Sem - 6/Deep Learning/archive/...  bleached    healthy"
      ]
     },
     "execution_count": 9,
     "metadata": {},
     "output_type": "execute_result"
    }
   ],
   "source": [
    "test=test.assign(prediction=result)\n",
    "test.head()"
   ]
  },
  {
   "cell_type": "code",
   "execution_count": 10,
   "id": "c3c101b5",
   "metadata": {
    "execution": {
     "iopub.execute_input": "2023-04-28T09:44:25.668685Z",
     "iopub.status.busy": "2023-04-28T09:44:25.668044Z",
     "iopub.status.idle": "2023-04-28T09:44:25.686449Z",
     "shell.execute_reply": "2023-04-28T09:44:25.685570Z"
    },
    "papermill": {
     "duration": 0.026125,
     "end_time": "2023-04-28T09:44:25.688720",
     "exception": false,
     "start_time": "2023-04-28T09:44:25.662595",
     "status": "completed"
    },
    "tags": []
   },
   "outputs": [
    {
     "data": {
      "text/html": [
       "<div>\n",
       "<style scoped>\n",
       "    .dataframe tbody tr th:only-of-type {\n",
       "        vertical-align: middle;\n",
       "    }\n",
       "\n",
       "    .dataframe tbody tr th {\n",
       "        vertical-align: top;\n",
       "    }\n",
       "\n",
       "    .dataframe thead th {\n",
       "        text-align: right;\n",
       "    }\n",
       "</style>\n",
       "<table border=\"1\" class=\"dataframe\">\n",
       "  <thead>\n",
       "    <tr style=\"text-align: right;\">\n",
       "      <th></th>\n",
       "      <th>filename</th>\n",
       "      <th>label</th>\n",
       "    </tr>\n",
       "  </thead>\n",
       "  <tbody>\n",
       "    <tr>\n",
       "      <th>0</th>\n",
       "      <td>C:/Files/Amrita/Sem - 6/Deep Learning/archive/...</td>\n",
       "      <td>healthy</td>\n",
       "    </tr>\n",
       "    <tr>\n",
       "      <th>1</th>\n",
       "      <td>C:/Files/Amrita/Sem - 6/Deep Learning/archive/...</td>\n",
       "      <td>healthy</td>\n",
       "    </tr>\n",
       "    <tr>\n",
       "      <th>2</th>\n",
       "      <td>C:/Files/Amrita/Sem - 6/Deep Learning/archive/...</td>\n",
       "      <td>healthy</td>\n",
       "    </tr>\n",
       "    <tr>\n",
       "      <th>3</th>\n",
       "      <td>C:/Files/Amrita/Sem - 6/Deep Learning/archive/...</td>\n",
       "      <td>healthy</td>\n",
       "    </tr>\n",
       "    <tr>\n",
       "      <th>4</th>\n",
       "      <td>C:/Files/Amrita/Sem - 6/Deep Learning/archive/...</td>\n",
       "      <td>bleached</td>\n",
       "    </tr>\n",
       "  </tbody>\n",
       "</table>\n",
       "</div>"
      ],
      "text/plain": [
       "                                            filename     label\n",
       "0  C:/Files/Amrita/Sem - 6/Deep Learning/archive/...   healthy\n",
       "1  C:/Files/Amrita/Sem - 6/Deep Learning/archive/...   healthy\n",
       "2  C:/Files/Amrita/Sem - 6/Deep Learning/archive/...   healthy\n",
       "3  C:/Files/Amrita/Sem - 6/Deep Learning/archive/...   healthy\n",
       "4  C:/Files/Amrita/Sem - 6/Deep Learning/archive/...  bleached"
      ]
     },
     "execution_count": 10,
     "metadata": {},
     "output_type": "execute_result"
    }
   ],
   "source": [
    "train=pd.read_csv(r'C:\\Files\\Amrita\\Sem - 6\\Deep Learning\\archive\\archive\\train.csv')\n",
    "train.head()"
   ]
  },
  {
   "cell_type": "code",
   "execution_count": 11,
   "id": "5f2df73c",
   "metadata": {
    "execution": {
     "iopub.execute_input": "2023-04-28T09:44:25.698818Z",
     "iopub.status.busy": "2023-04-28T09:44:25.698356Z",
     "iopub.status.idle": "2023-04-28T09:46:59.999106Z",
     "shell.execute_reply": "2023-04-28T09:46:59.997716Z"
    },
    "papermill": {
     "duration": 154.312598,
     "end_time": "2023-04-28T09:47:00.005337",
     "exception": false,
     "start_time": "2023-04-28T09:44:25.692739",
     "status": "completed"
    },
    "tags": []
   },
   "outputs": [
    {
     "data": {
      "text/plain": [
       "['bleached', 'healthy', 'healthy', 'healthy', 'bleached']"
      ]
     },
     "execution_count": 11,
     "metadata": {},
     "output_type": "execute_result"
    }
   ],
   "source": [
    "result=[]\n",
    "for i in train.filename:\n",
    "    img = Image.open(i).convert('RGB')\n",
    "    img = img.resize((300, 300 * img.size[1] // img.size[0]), PIL.Image.LANCZOS)\n",
    "    inp_numpy = np.array(img)[None]\n",
    "    inp = tf.constant(inp_numpy, dtype='float32')\n",
    "    class_scores = model(inp)[0].numpy()\n",
    "    result.append(classes[class_scores.argmax()])\n",
    "result[:5]"
   ]
  },
  {
   "cell_type": "code",
   "execution_count": 12,
   "id": "174b5504",
   "metadata": {
    "execution": {
     "iopub.execute_input": "2023-04-28T09:47:00.016255Z",
     "iopub.status.busy": "2023-04-28T09:47:00.015871Z",
     "iopub.status.idle": "2023-04-28T09:47:00.029013Z",
     "shell.execute_reply": "2023-04-28T09:47:00.028085Z"
    },
    "papermill": {
     "duration": 0.021783,
     "end_time": "2023-04-28T09:47:00.031406",
     "exception": false,
     "start_time": "2023-04-28T09:47:00.009623",
     "status": "completed"
    },
    "tags": []
   },
   "outputs": [
    {
     "data": {
      "text/html": [
       "<div>\n",
       "<style scoped>\n",
       "    .dataframe tbody tr th:only-of-type {\n",
       "        vertical-align: middle;\n",
       "    }\n",
       "\n",
       "    .dataframe tbody tr th {\n",
       "        vertical-align: top;\n",
       "    }\n",
       "\n",
       "    .dataframe thead th {\n",
       "        text-align: right;\n",
       "    }\n",
       "</style>\n",
       "<table border=\"1\" class=\"dataframe\">\n",
       "  <thead>\n",
       "    <tr style=\"text-align: right;\">\n",
       "      <th></th>\n",
       "      <th>filename</th>\n",
       "      <th>label</th>\n",
       "      <th>prediction</th>\n",
       "    </tr>\n",
       "  </thead>\n",
       "  <tbody>\n",
       "    <tr>\n",
       "      <th>0</th>\n",
       "      <td>C:/Files/Amrita/Sem - 6/Deep Learning/archive/...</td>\n",
       "      <td>healthy</td>\n",
       "      <td>bleached</td>\n",
       "    </tr>\n",
       "    <tr>\n",
       "      <th>1</th>\n",
       "      <td>C:/Files/Amrita/Sem - 6/Deep Learning/archive/...</td>\n",
       "      <td>healthy</td>\n",
       "      <td>healthy</td>\n",
       "    </tr>\n",
       "    <tr>\n",
       "      <th>2</th>\n",
       "      <td>C:/Files/Amrita/Sem - 6/Deep Learning/archive/...</td>\n",
       "      <td>healthy</td>\n",
       "      <td>healthy</td>\n",
       "    </tr>\n",
       "    <tr>\n",
       "      <th>3</th>\n",
       "      <td>C:/Files/Amrita/Sem - 6/Deep Learning/archive/...</td>\n",
       "      <td>healthy</td>\n",
       "      <td>healthy</td>\n",
       "    </tr>\n",
       "    <tr>\n",
       "      <th>4</th>\n",
       "      <td>C:/Files/Amrita/Sem - 6/Deep Learning/archive/...</td>\n",
       "      <td>bleached</td>\n",
       "      <td>bleached</td>\n",
       "    </tr>\n",
       "  </tbody>\n",
       "</table>\n",
       "</div>"
      ],
      "text/plain": [
       "                                            filename     label prediction\n",
       "0  C:/Files/Amrita/Sem - 6/Deep Learning/archive/...   healthy   bleached\n",
       "1  C:/Files/Amrita/Sem - 6/Deep Learning/archive/...   healthy    healthy\n",
       "2  C:/Files/Amrita/Sem - 6/Deep Learning/archive/...   healthy    healthy\n",
       "3  C:/Files/Amrita/Sem - 6/Deep Learning/archive/...   healthy    healthy\n",
       "4  C:/Files/Amrita/Sem - 6/Deep Learning/archive/...  bleached   bleached"
      ]
     },
     "execution_count": 12,
     "metadata": {},
     "output_type": "execute_result"
    }
   ],
   "source": [
    "train=train.assign(prediction=result)\n",
    "train.head()"
   ]
  },
  {
   "cell_type": "code",
   "execution_count": 13,
   "id": "ec8626da",
   "metadata": {
    "execution": {
     "iopub.execute_input": "2023-04-28T09:47:00.042368Z",
     "iopub.status.busy": "2023-04-28T09:47:00.041666Z",
     "iopub.status.idle": "2023-04-28T09:47:00.945901Z",
     "shell.execute_reply": "2023-04-28T09:47:00.943963Z"
    },
    "papermill": {
     "duration": 0.913,
     "end_time": "2023-04-28T09:47:00.948847",
     "exception": false,
     "start_time": "2023-04-28T09:47:00.035847",
     "status": "completed"
    },
    "tags": []
   },
   "outputs": [
    {
     "name": "stdout",
     "output_type": "stream",
     "text": [
      "              precision    recall  f1-score   support\n",
      "\n",
      "    bleached       0.90      0.86      0.88       381\n",
      "     healthy       0.86      0.90      0.88       357\n",
      "\n",
      "    accuracy                           0.88       738\n",
      "   macro avg       0.88      0.88      0.88       738\n",
      "weighted avg       0.88      0.88      0.88       738\n",
      "\n"
     ]
    }
   ],
   "source": [
    "from sklearn.metrics import classification_report\n",
    "print(classification_report(train['label'],train['prediction']))"
   ]
  },
  {
   "cell_type": "code",
   "execution_count": 14,
   "id": "6e75468a",
   "metadata": {
    "execution": {
     "iopub.execute_input": "2023-04-28T09:47:00.960142Z",
     "iopub.status.busy": "2023-04-28T09:47:00.959732Z",
     "iopub.status.idle": "2023-04-28T09:47:00.976562Z",
     "shell.execute_reply": "2023-04-28T09:47:00.974875Z"
    },
    "papermill": {
     "duration": 0.025882,
     "end_time": "2023-04-28T09:47:00.979207",
     "exception": false,
     "start_time": "2023-04-28T09:47:00.953325",
     "status": "completed"
    },
    "tags": []
   },
   "outputs": [
    {
     "name": "stdout",
     "output_type": "stream",
     "text": [
      "              precision    recall  f1-score   support\n",
      "\n",
      "    bleached       0.77      0.74      0.75       104\n",
      "     healthy       0.68      0.72      0.70        81\n",
      "\n",
      "    accuracy                           0.73       185\n",
      "   macro avg       0.73      0.73      0.73       185\n",
      "weighted avg       0.73      0.73      0.73       185\n",
      "\n"
     ]
    }
   ],
   "source": [
    "print(classification_report(test['label'],test['prediction']))"
   ]
  }
 ],
 "metadata": {
  "kernelspec": {
   "display_name": "Python 3",
   "language": "python",
   "name": "python3"
  },
  "language_info": {
   "codemirror_mode": {
    "name": "ipython",
    "version": 3
   },
   "file_extension": ".py",
   "mimetype": "text/x-python",
   "name": "python",
   "nbconvert_exporter": "python",
   "pygments_lexer": "ipython3",
   "version": "3.10.9"
  },
  "papermill": {
   "default_parameters": {},
   "duration": 247.647315,
   "end_time": "2023-04-28T09:47:03.705690",
   "environment_variables": {},
   "exception": null,
   "input_path": "__notebook__.ipynb",
   "output_path": "__notebook__.ipynb",
   "parameters": {},
   "start_time": "2023-04-28T09:42:56.058375",
   "version": "2.4.0"
  }
 },
 "nbformat": 4,
 "nbformat_minor": 5
}
